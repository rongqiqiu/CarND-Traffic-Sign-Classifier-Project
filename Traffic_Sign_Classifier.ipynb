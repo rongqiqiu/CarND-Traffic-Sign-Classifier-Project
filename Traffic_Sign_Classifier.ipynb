{
 "cells": [
  {
   "cell_type": "markdown",
   "metadata": {},
   "source": [
    "# Self-Driving Car Engineer Nanodegree\n",
    "\n",
    "## Deep Learning\n",
    "\n",
    "## Project: Build a Traffic Sign Recognition Classifier\n",
    "\n",
    "In this notebook, a template is provided for you to implement your functionality in stages, which is required to successfully complete this project. If additional code is required that cannot be included in the notebook, be sure that the Python code is successfully imported and included in your submission if necessary. \n",
    "\n",
    "> **Note**: Once you have completed all of the code implementations, you need to finalize your work by exporting the iPython Notebook as an HTML document. Before exporting the notebook to html, all of the code cells need to have been run so that reviewers can see the final implementation and output. You can then export the notebook by using the menu above and navigating to  \\n\",\n",
    "    \"**File -> Download as -> HTML (.html)**. Include the finished document along with this notebook as your submission. \n",
    "\n",
    "In addition to implementing code, there is a writeup to complete. The writeup should be completed in a separate file, which can be either a markdown file or a pdf document. There is a [write up template](https://github.com/udacity/CarND-Traffic-Sign-Classifier-Project/blob/master/writeup_template.md) that can be used to guide the writing process. Completing the code template and writeup template will cover all of the [rubric points](https://review.udacity.com/#!/rubrics/481/view) for this project.\n",
    "\n",
    "The [rubric](https://review.udacity.com/#!/rubrics/481/view) contains \"Stand Out Suggestions\" for enhancing the project beyond the minimum requirements. The stand out suggestions are optional. If you decide to pursue the \"stand out suggestions\", you can include the code in this Ipython notebook and also discuss the results in the writeup file.\n",
    "\n",
    "\n",
    ">**Note:** Code and Markdown cells can be executed using the **Shift + Enter** keyboard shortcut. In addition, Markdown cells can be edited by typically double-clicking the cell to enter edit mode."
   ]
  },
  {
   "cell_type": "markdown",
   "metadata": {},
   "source": [
    "---\n",
    "## Step 0: Load The Data"
   ]
  },
  {
   "cell_type": "code",
   "execution_count": 1,
   "metadata": {
    "collapsed": true
   },
   "outputs": [],
   "source": [
    "# Load pickled data\n",
    "import pickle\n",
    "\n",
    "# TODO: Fill this in based on where you saved the training and testing data\n",
    "\n",
    "training_file = 'traffic-signs-data/train.p'\n",
    "validation_file= 'traffic-signs-data/valid.p'\n",
    "testing_file = 'traffic-signs-data/test.p'\n",
    "\n",
    "with open(training_file, mode='rb') as f:\n",
    "    train = pickle.load(f)\n",
    "with open(validation_file, mode='rb') as f:\n",
    "    valid = pickle.load(f)\n",
    "with open(testing_file, mode='rb') as f:\n",
    "    test = pickle.load(f)\n",
    "    \n",
    "X_train, y_train = train['features'], train['labels']\n",
    "X_valid, y_valid = valid['features'], valid['labels']\n",
    "X_test, y_test = test['features'], test['labels']"
   ]
  },
  {
   "cell_type": "markdown",
   "metadata": {},
   "source": [
    "---\n",
    "\n",
    "## Step 1: Dataset Summary & Exploration\n",
    "\n",
    "The pickled data is a dictionary with 4 key/value pairs:\n",
    "\n",
    "- `'features'` is a 4D array containing raw pixel data of the traffic sign images, (num examples, width, height, channels).\n",
    "- `'labels'` is a 1D array containing the label/class id of the traffic sign. The file `signnames.csv` contains id -> name mappings for each id.\n",
    "- `'sizes'` is a list containing tuples, (width, height) representing the original width and height the image.\n",
    "- `'coords'` is a list containing tuples, (x1, y1, x2, y2) representing coordinates of a bounding box around the sign in the image. **THESE COORDINATES ASSUME THE ORIGINAL IMAGE. THE PICKLED DATA CONTAINS RESIZED VERSIONS (32 by 32) OF THESE IMAGES**\n",
    "\n",
    "Complete the basic data summary below. Use python, numpy and/or pandas methods to calculate the data summary rather than hard coding the results. For example, the [pandas shape method](http://pandas.pydata.org/pandas-docs/stable/generated/pandas.DataFrame.shape.html) might be useful for calculating some of the summary results. "
   ]
  },
  {
   "cell_type": "markdown",
   "metadata": {},
   "source": [
    "### Provide a Basic Summary of the Data Set Using Python, Numpy and/or Pandas"
   ]
  },
  {
   "cell_type": "code",
   "execution_count": 2,
   "metadata": {},
   "outputs": [
    {
     "name": "stdout",
     "output_type": "stream",
     "text": [
      "Number of training examples = 34799\n",
      "Number of validation examples = 4410\n",
      "Number of testing examples = 12630\n",
      "Image data shape = (32, 32, 3)\n",
      "Number of classes = 43\n"
     ]
    }
   ],
   "source": [
    "### Replace each question mark with the appropriate value. \n",
    "### Use python, pandas or numpy methods rather than hard coding the results\n",
    "import numpy as np\n",
    "\n",
    "# TODO: Number of training examples\n",
    "n_train = X_train.shape[0]\n",
    "\n",
    "# TODO: Number of validation examples\n",
    "n_validation = X_valid.shape[0]\n",
    "\n",
    "# TODO: Number of testing examples.\n",
    "n_test = X_test.shape[0]\n",
    "\n",
    "# TODO: What's the shape of an traffic sign image?\n",
    "image_shape = X_train[0].shape\n",
    "\n",
    "# TODO: How many unique classes/labels there are in the dataset.\n",
    "n_classes = len(np.unique(np.concatenate((y_train, y_valid, y_test))))\n",
    "\n",
    "print(\"Number of training examples =\", n_train)\n",
    "print(\"Number of validation examples =\", n_validation)\n",
    "print(\"Number of testing examples =\", n_test)\n",
    "print(\"Image data shape =\", image_shape)\n",
    "print(\"Number of classes =\", n_classes)"
   ]
  },
  {
   "cell_type": "markdown",
   "metadata": {},
   "source": [
    "### Include an exploratory visualization of the dataset"
   ]
  },
  {
   "cell_type": "markdown",
   "metadata": {},
   "source": [
    "Visualize the German Traffic Signs Dataset using the pickled file(s). This is open ended, suggestions include: plotting traffic sign images, plotting the count of each sign, etc. \n",
    "\n",
    "The [Matplotlib](http://matplotlib.org/) [examples](http://matplotlib.org/examples/index.html) and [gallery](http://matplotlib.org/gallery.html) pages are a great resource for doing visualizations in Python.\n",
    "\n",
    "**NOTE:** It's recommended you start with something simple first. If you wish to do more, come back to it after you've completed the rest of the sections. It can be interesting to look at the distribution of classes in the training, validation and test set. Is the distribution the same? Are there more examples of some classes than others?"
   ]
  },
  {
   "cell_type": "code",
   "execution_count": 3,
   "metadata": {},
   "outputs": [
    {
     "name": "stdout",
     "output_type": "stream",
     "text": [
      "1\n"
     ]
    },
    {
     "data": {
      "image/png": "[encoded data removed]",
      "text/plain": [
       "<matplotlib.figure.Figure at 0x7f8aac5a58d0>"
      ]
     },
     "metadata": {},
     "output_type": "display_data"
    }
   ],
   "source": [
    "### Data exploration visualization code goes here.\n",
    "### Feel free to use as many code cells as needed.\n",
    "import matplotlib.pyplot as plt\n",
    "import random\n",
    "# Visualizations will be shown in the notebook.\n",
    "%matplotlib inline\n",
    "\n",
    "index = random.randint(0, len(X_train))\n",
    "image = X_train[index]\n",
    "\n",
    "plt.figure(figsize=(3,3))\n",
    "plt.imshow(image)\n",
    "print(y_train[index])"
   ]
  },
  {
   "cell_type": "markdown",
   "metadata": {},
   "source": [
    "----\n",
    "\n",
    "## Step 2: Design and Test a Model Architecture\n",
    "\n",
    "Design and implement a deep learning model that learns to recognize traffic signs. Train and test your model on the [German Traffic Sign Dataset](http://benchmark.ini.rub.de/?section=gtsrb&subsection=dataset).\n",
    "\n",
    "The LeNet-5 implementation shown in the [classroom](https://classroom.udacity.com/nanodegrees/nd013/parts/fbf77062-5703-404e-b60c-95b78b2f3f9e/modules/6df7ae49-c61c-4bb2-a23e-6527e69209ec/lessons/601ae704-1035-4287-8b11-e2c2716217ad/concepts/d4aca031-508f-4e0b-b493-e7b706120f81) at the end of the CNN lesson is a solid starting point. You'll have to change the number of classes and possibly the preprocessing, but aside from that it's plug and play! \n",
    "\n",
    "With the LeNet-5 solution from the lecture, you should expect a validation set accuracy of about 0.89. To meet specifications, the validation set accuracy will need to be at least 0.93. It is possible to get an even higher accuracy, but 0.93 is the minimum for a successful project submission. \n",
    "\n",
    "There are various aspects to consider when thinking about this problem:\n",
    "\n",
    "- Neural network architecture (is the network over or underfitting?)\n",
    "- Play around preprocessing techniques (normalization, rgb to grayscale, etc)\n",
    "- Number of examples per label (some have more than others).\n",
    "- Generate fake data.\n",
    "\n",
    "Here is an example of a [published baseline model on this problem](http://yann.lecun.com/exdb/publis/pdf/sermanet-ijcnn-11.pdf). It's not required to be familiar with the approach used in the paper but, it's good practice to try to read papers like these."
   ]
  },
  {
   "cell_type": "markdown",
   "metadata": {},
   "source": [
    "### Pre-process the Data Set (normalization, grayscale, etc.)"
   ]
  },
  {
   "cell_type": "markdown",
   "metadata": {},
   "source": [
    "Minimally, the image data should be normalized so that the data has mean zero and equal variance. For image data, `(pixel - 128)/ 128` is a quick way to approximately normalize the data and can be used in this project. \n",
    "\n",
    "Other pre-processing steps are optional. You can try different techniques to see if it improves performance. \n",
    "\n",
    "Use the code cell (or multiple code cells, if necessary) to implement the first step of your project."
   ]
  },
  {
   "cell_type": "code",
   "execution_count": 4,
   "metadata": {},
   "outputs": [
    {
     "name": "stdout",
     "output_type": "stream",
     "text": [
      "Mean:\n",
      "[[[ 89.17555102  87.48277249  87.16167131]\n",
      "  [ 89.27854249  87.46162246  87.14497543]\n",
      "  [ 89.57857984  87.62283399  87.34564212]\n",
      "  ..., \n",
      "  [ 89.03896664  86.70743412  86.39377568]\n",
      "  [ 88.66260525  86.41170723  86.0788241 ]\n",
      "  [ 88.25224863  86.17218886  85.89275554]]\n",
      "\n",
      " [[ 88.86105923  87.17046467  86.83442053]\n",
      "  [ 88.82947786  86.9975574   86.7277508 ]\n",
      "  [ 89.17974654  87.24431737  86.96491278]\n",
      "  ..., \n",
      "  [ 88.34414782  86.14417081  85.91850341]\n",
      "  [ 88.01123596  85.92502658  85.69318084]\n",
      "  [ 87.59360901  85.66501911  85.45699589]]\n",
      "\n",
      " [[ 88.35386074  86.60585074  86.26385816]\n",
      "  [ 88.4911348   86.70849737  86.40242536]\n",
      "  [ 88.66826633  86.77211989  86.46831806]\n",
      "  ..., \n",
      "  [ 87.55475732  85.57834995  85.37095894]\n",
      "  [ 87.19813788  85.34308457  85.12761861]\n",
      "  [ 86.88847381  85.12261847  84.91177907]]\n",
      "\n",
      " ..., \n",
      " [[ 71.1150033   68.68591051  67.34230869]\n",
      "  [ 71.11922756  68.70993419  67.38610305]\n",
      "  [ 71.50403747  69.02043162  67.6802207 ]\n",
      "  ..., \n",
      "  [ 70.64685767  68.34710768  67.42340297]\n",
      "  [ 70.25526596  68.09666944  67.11592287]\n",
      "  [ 69.9733613   67.89396247  66.8878416 ]]\n",
      "\n",
      " [[ 70.79418949  68.3725107   66.93511308]\n",
      "  [ 70.77821202  68.39722406  67.0110348 ]\n",
      "  [ 71.07735854  68.58541912  67.20175867]\n",
      "  ..., \n",
      "  [ 70.17580965  67.94841806  67.01261531]\n",
      "  [ 69.80108624  67.63838041  66.66935831]\n",
      "  [ 69.49191069  67.35986666  66.34940659]]\n",
      "\n",
      " [[ 70.20514957  67.82166154  66.40972442]\n",
      "  [ 70.22242018  67.87416305  66.50127877]\n",
      "  [ 70.48714044  68.01436823  66.6707664 ]\n",
      "  ..., \n",
      "  [ 69.77763729  67.59929883  66.64346677]\n",
      "  [ 69.28405989  67.14126843  66.13034857]\n",
      "  [ 69.10523291  66.92005517  65.88186442]]]\n",
      "Stddev:\n",
      "[[[ 75.83786811  76.19000642  77.36065655]\n",
      "  [ 75.65154811  76.12610713  77.34961393]\n",
      "  [ 75.74134973  76.10828364  77.35329165]\n",
      "  ..., \n",
      "  [ 75.09155291  75.23075422  76.68158622]\n",
      "  [ 74.80486827  75.01538957  76.55599025]\n",
      "  [ 74.76794676  75.07095377  76.74903275]]\n",
      "\n",
      " [[ 75.54850174  76.0127592   77.13564814]\n",
      "  [ 75.21860822  75.73379163  76.99218771]\n",
      "  [ 75.35361215  75.83872565  77.08984291]\n",
      "  ..., \n",
      "  [ 74.34037535  74.65635549  76.12357461]\n",
      "  [ 74.12610552  74.47061815  75.99819433]\n",
      "  [ 74.13413493  74.57211836  76.20406218]]\n",
      "\n",
      " [[ 75.57946697  75.82458075  76.81756306]\n",
      "  [ 75.24591579  75.69743711  76.78113352]\n",
      "  [ 75.20925423  75.60191123  76.72675166]\n",
      "  ..., \n",
      "  [ 73.85840454  74.26801222  75.67702837]\n",
      "  [ 73.79198281  74.15990346  75.57664643]\n",
      "  [ 73.94043878  74.28767059  75.74842113]]\n",
      "\n",
      " ..., \n",
      " [[ 65.58785797  64.48488625  63.47716889]\n",
      "  [ 65.21788321  64.14726657  63.15349043]\n",
      "  [ 65.22545946  64.0835238   63.05461858]\n",
      "  ..., \n",
      "  [ 64.08882634  63.30764425  62.9449033 ]\n",
      "  [ 64.14559591  63.48465221  63.02996987]\n",
      "  [ 64.43798243  63.81209005  63.33213494]]\n",
      "\n",
      " [[ 65.35839825  64.3020273   63.08442462]\n",
      "  [ 64.97209428  63.95275154  62.87209207]\n",
      "  [ 64.95329283  63.76450291  62.69039059]\n",
      "  ..., \n",
      "  [ 64.03329339  63.22847465  62.75878565]\n",
      "  [ 63.91547137  63.17318293  62.69443188]\n",
      "  [ 64.08600778  63.37212085  62.86629918]]\n",
      "\n",
      " [[ 64.85710706  63.86708725  62.68030933]\n",
      "  [ 64.55502772  63.6104999   62.51395653]\n",
      "  [ 64.60811757  63.4810146   62.36794894]\n",
      "  ..., \n",
      "  [ 63.98007071  63.12695146  62.59957268]\n",
      "  [ 63.71986222  62.86691786  62.27557569]\n",
      "  [ 64.00905912  63.16635071  62.5427626 ]]]\n"
     ]
    }
   ],
   "source": [
    "### Preprocess the data here. It is required to normalize the data. Other preprocessing steps could include \n",
    "### converting to grayscale, etc.\n",
    "### Feel free to use as many code cells as needed.\n",
    "X_train_mean = np.mean(X_train, axis=0)\n",
    "X_train_stddev = np.std(X_train, axis=0)\n",
    "print(\"Mean:\")\n",
    "print(X_train_mean)\n",
    "print(\"Stddev:\")\n",
    "print(X_train_stddev)\n",
    "\n",
    "X_train = (X_train - X_train_mean) / X_train_stddev\n",
    "X_valid = (X_valid - X_train_mean) / X_train_stddev\n",
    "X_test = (X_test - X_train_mean) / X_train_stddev"
   ]
  },
  {
   "cell_type": "code",
   "execution_count": 5,
   "metadata": {
    "collapsed": true
   },
   "outputs": [],
   "source": [
    "# X_train = np.sum(X_train, axis = 3, keepdims = True) / 3\n",
    "# X_valid = np.sum(X_valid, axis = 3, keepdims = True) / 3\n",
    "# X_test = np.sum(X_test, axis = 3, keepdims = True) / 3"
   ]
  },
  {
   "cell_type": "code",
   "execution_count": 6,
   "metadata": {
    "collapsed": true
   },
   "outputs": [],
   "source": [
    "from sklearn.utils import shuffle\n",
    "\n",
    "X_train, y_train = shuffle(X_train, y_train)"
   ]
  },
  {
   "cell_type": "markdown",
   "metadata": {},
   "source": [
    "### Model Architecture"
   ]
  },
  {
   "cell_type": "code",
   "execution_count": 7,
   "metadata": {
    "collapsed": true
   },
   "outputs": [],
   "source": [
    "### Define your architecture here.\n",
    "### Feel free to use as many code cells as needed.\n",
    "import tensorflow as tf\n",
    "\n",
    "EPOCHS = 50\n",
    "BATCH_SIZE = 128\n",
    "\n",
    "def LeNet(x, keep_prob):    \n",
    "    # Arguments used for tf.truncated_normal, randomly defines variables for the weights and biases for each layer\n",
    "    mu = 0\n",
    "    sigma = 0.1\n",
    "    \n",
    "    # TODO: Layer 1: Convolutional. Input = 32x32x3. Output = 28x28x6.\n",
    "    filter_weights_1 = tf.Variable(tf.truncated_normal([5, 5, 3, 6], mean=mu, stddev=sigma))\n",
    "    filter_biases_1 = tf.Variable(tf.zeros(6))\n",
    "    x = tf.nn.conv2d(x, filter_weights_1, [1, 1, 1, 1], 'VALID') + filter_biases_1\n",
    "\n",
    "    # TODO: Activation.\n",
    "    x = tf.nn.relu(x)\n",
    "\n",
    "    # TODO: Pooling. Input = 28x28x6. Output = 14x14x6.\n",
    "    x = tf.nn.pool(x, [2, 2], 'MAX', 'VALID', strides = [2, 2])\n",
    "\n",
    "    # TODO: Layer 2: Convolutional. Output = 10x10x16.\n",
    "    filter_weights_2 = tf.Variable(tf.truncated_normal([5, 5, 6, 16], mean=mu, stddev=sigma))\n",
    "    filter_biases_2 = tf.Variable(tf.zeros(16))\n",
    "    x = tf.nn.conv2d(x, filter_weights_2, [1, 1, 1, 1], 'VALID') + filter_biases_2\n",
    "    \n",
    "    # TODO: Activation.\n",
    "    x = tf.nn.relu(x)\n",
    "\n",
    "    # TODO: Pooling. Input = 10x10x16. Output = 5x5x16.\n",
    "    x = tf.nn.pool(x, [2, 2], 'MAX', 'VALID', strides = [2, 2])\n",
    "\n",
    "    # TODO: Flatten. Input = 5x5x16. Output = 400.\n",
    "    x = tf.reshape(x, [-1, 400])\n",
    "    \n",
    "    # TODO: Layer 3: Fully Connected. Input = 400. Output = 120.\n",
    "    weights_3 = tf.Variable(tf.truncated_normal([400, 120], mean=mu, stddev=sigma))\n",
    "    biases_3 = tf.Variable(tf.zeros(120))\n",
    "    x = tf.matmul(x, weights_3) + biases_3\n",
    "    \n",
    "    # TODO: Activation.\n",
    "    x = tf.nn.relu(x)\n",
    "    x = tf.nn.dropout(x, keep_prob)\n",
    "\n",
    "    # TODO: Layer 4: Fully Connected. Input = 120. Output = 84.\n",
    "    weights_4 = tf.Variable(tf.truncated_normal([120, 84], mean=mu, stddev=sigma))\n",
    "    biases_4 = tf.Variable(tf.zeros(84))\n",
    "    x = tf.matmul(x, weights_4) + biases_4\n",
    "    \n",
    "    # TODO: Activation.\n",
    "    x = tf.nn.relu(x)\n",
    "    x = tf.nn.dropout(x, keep_prob)\n",
    "\n",
    "    # TODO: Layer 5: Fully Connected. Input = 84. Output = n_classes.\n",
    "    weights_5 = tf.Variable(tf.truncated_normal([84, n_classes], mean=mu, stddev=sigma))\n",
    "    biases_5 = tf.Variable(tf.zeros(n_classes))\n",
    "    logits = tf.matmul(x, weights_5) + biases_5\n",
    "    \n",
    "    regularizer = tf.nn.l2_loss(filter_weights_1) + tf.nn.l2_loss(filter_weights_2) + tf.nn.l2_loss(weights_3) + tf.nn.l2_loss(weights_4) + tf.nn.l2_loss(weights_5)\n",
    "    \n",
    "    return logits, regularizer"
   ]
  },
  {
   "cell_type": "markdown",
   "metadata": {},
   "source": [
    "### Train, Validate and Test the Model"
   ]
  },
  {
   "cell_type": "markdown",
   "metadata": {},
   "source": [
    "A validation set can be used to assess how well the model is performing. A low accuracy on the training and validation\n",
    "sets imply underfitting. A high accuracy on the training set but low accuracy on the validation set implies overfitting."
   ]
  },
  {
   "cell_type": "code",
   "execution_count": 8,
   "metadata": {
    "collapsed": true
   },
   "outputs": [],
   "source": [
    "### Train your model here.\n",
    "### Calculate and report the accuracy on the training and validation set.\n",
    "### Once a final model architecture is selected, \n",
    "### the accuracy on the test set should be calculated and reported as well.\n",
    "### Feel free to use as many code cells as needed.\n",
    "x = tf.placeholder(tf.float32, (None, 32, 32, 3))\n",
    "y = tf.placeholder(tf.int32, (None))\n",
    "keep_prob = tf.placeholder(tf.float32)\n",
    "one_hot_y = tf.one_hot(y, n_classes)\n",
    "\n",
    "rate = 0.001\n",
    "beta = 0.001\n",
    "\n",
    "logits, regularizer = LeNet(x, keep_prob)\n",
    "cross_entropy = tf.nn.softmax_cross_entropy_with_logits(labels=one_hot_y, logits=logits)\n",
    "loss_operation = tf.reduce_mean(cross_entropy + beta * regularizer)\n",
    "optimizer = tf.train.AdamOptimizer(learning_rate = rate)\n",
    "training_operation = optimizer.minimize(loss_operation)\n",
    "prediction = tf.argmax(logits, 1)\n",
    "correct_prediction = tf.equal(prediction, tf.argmax(one_hot_y, 1))\n",
    "accuracy_operation = tf.reduce_mean(tf.cast(correct_prediction, tf.float32))\n",
    "saver = tf.train.Saver()\n",
    "\n",
    "def evaluate(X_data, y_data):\n",
    "    num_examples = len(X_data)\n",
    "    total_accuracy = 0\n",
    "    sess = tf.get_default_session()\n",
    "    for offset in range(0, num_examples, BATCH_SIZE):\n",
    "        batch_x, batch_y = X_data[offset:offset+BATCH_SIZE], y_data[offset:offset+BATCH_SIZE]\n",
    "        accuracy = sess.run(accuracy_operation, feed_dict={x: batch_x, y: batch_y, keep_prob: 1.0})\n",
    "        total_accuracy += (accuracy * len(batch_x))\n",
    "    return total_accuracy / num_examples"
   ]
  },
  {
   "cell_type": "code",
   "execution_count": 9,
   "metadata": {},
   "outputs": [
    {
     "name": "stdout",
     "output_type": "stream",
     "text": [
      "Training...\n",
      "\n",
      "EPOCH 1 ...\n",
      "Validation Accuracy = 0.608\n",
      "\n",
      "EPOCH 2 ...\n",
      "Validation Accuracy = 0.832\n",
      "\n",
      "EPOCH 3 ...\n",
      "Validation Accuracy = 0.867\n",
      "\n",
      "EPOCH 4 ...\n",
      "Validation Accuracy = 0.887\n",
      "\n",
      "EPOCH 5 ...\n",
      "Validation Accuracy = 0.903\n",
      "\n",
      "EPOCH 6 ...\n",
      "Validation Accuracy = 0.914\n",
      "\n",
      "EPOCH 7 ...\n",
      "Validation Accuracy = 0.918\n",
      "\n",
      "EPOCH 8 ...\n",
      "Validation Accuracy = 0.928\n",
      "\n",
      "EPOCH 9 ...\n",
      "Validation Accuracy = 0.932\n",
      "\n",
      "EPOCH 10 ...\n",
      "Validation Accuracy = 0.932\n",
      "Training Accuracy = 0.985\n",
      "\n",
      "EPOCH 11 ...\n",
      "Validation Accuracy = 0.937\n",
      "\n",
      "EPOCH 12 ...\n",
      "Validation Accuracy = 0.940\n",
      "\n",
      "EPOCH 13 ...\n",
      "Validation Accuracy = 0.938\n",
      "\n",
      "EPOCH 14 ...\n",
      "Validation Accuracy = 0.937\n",
      "\n",
      "EPOCH 15 ...\n",
      "Validation Accuracy = 0.944\n",
      "\n",
      "EPOCH 16 ...\n",
      "Validation Accuracy = 0.939\n",
      "\n",
      "EPOCH 17 ...\n",
      "Validation Accuracy = 0.947\n",
      "\n",
      "EPOCH 18 ...\n",
      "Validation Accuracy = 0.945\n",
      "\n",
      "EPOCH 19 ...\n",
      "Validation Accuracy = 0.945\n",
      "\n",
      "EPOCH 20 ...\n",
      "Validation Accuracy = 0.946\n",
      "Training Accuracy = 0.994\n",
      "\n",
      "EPOCH 21 ...\n",
      "Validation Accuracy = 0.948\n",
      "\n",
      "EPOCH 22 ...\n",
      "Validation Accuracy = 0.942\n",
      "\n",
      "EPOCH 23 ...\n",
      "Validation Accuracy = 0.948\n",
      "\n",
      "EPOCH 24 ...\n",
      "Validation Accuracy = 0.951\n",
      "\n",
      "EPOCH 25 ...\n",
      "Validation Accuracy = 0.953\n",
      "\n",
      "EPOCH 26 ...\n",
      "Validation Accuracy = 0.953\n",
      "\n",
      "EPOCH 27 ...\n",
      "Validation Accuracy = 0.954\n",
      "\n",
      "EPOCH 28 ...\n",
      "Validation Accuracy = 0.940\n",
      "\n",
      "EPOCH 29 ...\n",
      "Validation Accuracy = 0.951\n",
      "\n",
      "EPOCH 30 ...\n",
      "Validation Accuracy = 0.948\n",
      "Training Accuracy = 0.995\n",
      "\n",
      "EPOCH 31 ...\n",
      "Validation Accuracy = 0.947\n",
      "\n",
      "EPOCH 32 ...\n",
      "Validation Accuracy = 0.949\n",
      "\n",
      "EPOCH 33 ...\n",
      "Validation Accuracy = 0.952\n",
      "\n",
      "EPOCH 34 ...\n",
      "Validation Accuracy = 0.951\n",
      "\n",
      "EPOCH 35 ...\n",
      "Validation Accuracy = 0.951\n",
      "\n",
      "EPOCH 36 ...\n",
      "Validation Accuracy = 0.960\n",
      "\n",
      "EPOCH 37 ...\n",
      "Validation Accuracy = 0.957\n",
      "\n",
      "EPOCH 38 ...\n",
      "Validation Accuracy = 0.952\n",
      "\n",
      "EPOCH 39 ...\n",
      "Validation Accuracy = 0.951\n",
      "\n",
      "EPOCH 40 ...\n",
      "Validation Accuracy = 0.954\n",
      "Training Accuracy = 0.997\n",
      "\n",
      "EPOCH 41 ...\n",
      "Validation Accuracy = 0.951\n",
      "\n",
      "EPOCH 42 ...\n",
      "Validation Accuracy = 0.954\n",
      "\n",
      "EPOCH 43 ...\n",
      "Validation Accuracy = 0.958\n",
      "\n",
      "EPOCH 44 ...\n",
      "Validation Accuracy = 0.957\n",
      "\n",
      "EPOCH 45 ...\n",
      "Validation Accuracy = 0.951\n",
      "\n",
      "EPOCH 46 ...\n",
      "Validation Accuracy = 0.956\n",
      "\n",
      "EPOCH 47 ...\n",
      "Validation Accuracy = 0.954\n",
      "\n",
      "EPOCH 48 ...\n",
      "Validation Accuracy = 0.959\n",
      "\n",
      "EPOCH 49 ...\n",
      "Validation Accuracy = 0.954\n",
      "\n",
      "EPOCH 50 ...\n",
      "Validation Accuracy = 0.957\n",
      "Training Accuracy = 0.997\n",
      "\n",
      "Model saved\n"
     ]
    }
   ],
   "source": [
    "with tf.Session() as sess:\n",
    "    sess.run(tf.global_variables_initializer())\n",
    "    num_examples = len(X_train)\n",
    "    \n",
    "    print(\"Training...\")\n",
    "    print()\n",
    "    for i in range(EPOCHS):\n",
    "        X_train, y_train = shuffle(X_train, y_train)\n",
    "        for offset in range(0, num_examples, BATCH_SIZE):\n",
    "            end = offset + BATCH_SIZE\n",
    "            batch_x, batch_y = X_train[offset:end], y_train[offset:end]\n",
    "            sess.run(training_operation, feed_dict={x: batch_x, y: batch_y, keep_prob: 0.5})\n",
    "            \n",
    "        validation_accuracy = evaluate(X_valid, y_valid)\n",
    "        print(\"EPOCH {} ...\".format(i+1))\n",
    "        print(\"Validation Accuracy = {:.3f}\".format(validation_accuracy))\n",
    "        if (i + 1) % 10 == 0:\n",
    "            train_accuracy = evaluate(X_train, y_train)\n",
    "            print(\"Training Accuracy = {:.3f}\".format(train_accuracy))\n",
    "        print()\n",
    "    \n",
    "    saver.save(sess, './lenet')\n",
    "    print(\"Model saved\")"
   ]
  },
  {
   "cell_type": "code",
   "execution_count": 10,
   "metadata": {},
   "outputs": [
    {
     "name": "stdout",
     "output_type": "stream",
     "text": [
      "Test Accuracy = 0.941\n"
     ]
    }
   ],
   "source": [
    "with tf.Session() as sess:\n",
    "    saver.restore(sess, \"./lenet\")\n",
    "\n",
    "    test_accuracy = evaluate(X_test, y_test)\n",
    "    print(\"Test Accuracy = {:.3f}\".format(test_accuracy))"
   ]
  },
  {
   "cell_type": "markdown",
   "metadata": {},
   "source": [
    "---\n",
    "\n",
    "## Step 3: Test a Model on New Images\n",
    "\n",
    "To give yourself more insight into how your model is working, download at least five pictures of German traffic signs from the web and use your model to predict the traffic sign type.\n",
    "\n",
    "You may find `signnames.csv` useful as it contains mappings from the class id (integer) to the actual sign name."
   ]
  },
  {
   "cell_type": "markdown",
   "metadata": {},
   "source": [
    "### Load and Output the Images"
   ]
  },
  {
   "cell_type": "code",
   "execution_count": 11,
   "metadata": {},
   "outputs": [
    {
     "data": {
      "image/png": "[encoded data removed]",
      "text/plain": [
       "<matplotlib.figure.Figure at 0x7f8a282869b0>"
      ]
     },
     "metadata": {},
     "output_type": "display_data"
    },
    {
     "data": {
      "image/png": "[encoded data removed]",
      "text/plain": [
       "<matplotlib.figure.Figure at 0x7f8a78d94be0>"
      ]
     },
     "metadata": {},
     "output_type": "display_data"
    },
    {
     "data": {
      "image/png": "[encoded data removed]",
      "text/plain": [
       "<matplotlib.figure.Figure at 0x7f8a181a00b8>"
      ]
     },
     "metadata": {},
     "output_type": "display_data"
    },
    {
     "data": {
      "image/png": "[encoded data removed]",
      "text/plain": [
       "<matplotlib.figure.Figure at 0x7f8a181636a0>"
      ]
     },
     "metadata": {},
     "output_type": "display_data"
    },
    {
     "data": {
      "image/png": "[encoded data removed]",
      "text/plain": [
       "<matplotlib.figure.Figure at 0x7f8a1813b080>"
      ]
     },
     "metadata": {},
     "output_type": "display_data"
    }
   ],
   "source": [
    "### Load the images and plot them here.\n",
    "### Feel free to use as many code cells as needed.\n",
    "import os\n",
    "import cv2 as cv\n",
    "import numpy as np\n",
    "\n",
    "dir = \"new_data\"\n",
    "f_data = open(os.path.join(dir, \"data.txt\"))\n",
    "X_new = []\n",
    "for filename in f_data:\n",
    "    img = cv.imread(os.path.join(dir, filename[:-1]))\n",
    "    img = cv.cvtColor(img, cv.COLOR_BGR2RGB)\n",
    "    X_new.append(img)\n",
    "\n",
    "X_new = np.asarray(X_new)\n",
    "\n",
    "f_label = open(os.path.join(dir, \"labels.txt\"))\n",
    "y_new = []\n",
    "for label in f_label:\n",
    "    y_new.append(int(label))\n",
    "y_new = np.asarray(y_new)\n",
    "\n",
    "for data, label in zip(X_new, y_new):\n",
    "    plt.figure(figsize=(3,3))\n",
    "    plt.imshow(data)\n"
   ]
  },
  {
   "cell_type": "markdown",
   "metadata": {},
   "source": [
    "### Predict the Sign Type for Each Image"
   ]
  },
  {
   "cell_type": "code",
   "execution_count": 12,
   "metadata": {},
   "outputs": [
    {
     "name": "stdout",
     "output_type": "stream",
     "text": [
      "Mean:\n",
      "[[[ 0.19811275  0.48191658  0.74247468]\n",
      "  [ 0.18930819  0.47734449  0.74538219]\n",
      "  [ 0.1851224   0.45957108  0.76085137]\n",
      "  ..., \n",
      "  [ 0.33240801  0.61268249  0.94424526]\n",
      "  [ 0.46704707  0.71436399  1.05179458]\n",
      "  [ 0.71083604  0.92482921  1.24440975]]\n",
      "\n",
      " [[ 0.20832896  0.47136212  0.76962573]\n",
      "  [ 0.22029818  0.47538149  0.77504291]\n",
      "  [ 0.28957143  0.54794806  0.78655092]\n",
      "  ..., \n",
      "  [ 0.48232003  0.7374567   1.08877568]\n",
      "  [ 0.53677127  0.78252303  1.08301019]\n",
      "  [ 0.72040216  0.96195445  1.21178585]]\n",
      "\n",
      " [[ 0.14879887  0.4113989   0.7698258 ]\n",
      "  [ 0.27255785  0.51905988  0.79964402]\n",
      "  [ 0.31820198  0.56384659  0.81759856]\n",
      "  ..., \n",
      "  [ 0.4203346   0.66545002  0.98879465]\n",
      "  [-0.01623669  0.23000186  0.55933127]\n",
      "  [ 0.53707453  0.77909808  1.05729228]]\n",
      "\n",
      " ..., \n",
      " [[ 0.45869766  0.63137414  0.73188033]\n",
      "  [ 0.53483448  0.60938007  0.70326908]\n",
      "  [ 0.69751847  0.79239663  0.9534556 ]\n",
      "  ..., \n",
      "  [ 1.10086495  1.27398347  1.26422622]\n",
      "  [ 0.8815061   1.10740672  1.121436  ]\n",
      "  [ 0.82601343  1.12684034  1.23337321]]\n",
      "\n",
      " [[ 0.33669446  0.5976093   0.86336504]\n",
      "  [ 0.42821135  0.6411417   0.88734068]\n",
      "  [ 0.39909665  0.67144852  0.98895924]\n",
      "  ..., \n",
      "  [ 0.88429296  1.22811095  1.41155352]\n",
      "  [ 0.71655442  1.06630086  1.2206928 ]\n",
      "  [ 0.78188814  1.12099978  1.26698397]]\n",
      "\n",
      " [[ 0.27437009  0.53514791  0.76882638]\n",
      "  [ 0.32495656  0.56792254  0.83659272]\n",
      "  [ 0.17819525  0.42509768  0.8614879 ]\n",
      "  ..., \n",
      "  [ 0.77871691  1.15324278  1.38909148]\n",
      "  [ 0.59817989  0.89170479  1.24719283]\n",
      "  [ 0.72950248  1.06195695  1.27142026]]]\n",
      "Stddev:\n",
      "[[[ 0.73867164  0.72311454  0.97522807]\n",
      "  [ 0.73119218  0.72918479  0.97467475]\n",
      "  [ 0.79972962  0.7932667   0.98804833]\n",
      "  ..., \n",
      "  [ 0.88235058  0.89181846  0.90400717]\n",
      "  [ 0.88998312  0.88485453  0.87677756]\n",
      "  [ 1.00439036  0.9643179   0.9020918 ]]\n",
      "\n",
      " [[ 0.83298062  0.81815253  1.0001556 ]\n",
      "  [ 0.82343172  0.80720431  0.99194119]\n",
      "  [ 0.77848613  0.7388045   0.98342232]\n",
      "  ..., \n",
      "  [ 0.89674733  0.88956991  0.85552636]\n",
      "  [ 0.83703891  0.81092472  0.83849896]\n",
      "  [ 0.84467817  0.76196203  0.76108713]]\n",
      "\n",
      " [[ 0.89302032  0.89425861  1.0103601 ]\n",
      "  [ 0.85282562  0.83127455  1.01324631]\n",
      "  [ 0.85612068  0.80456048  1.01208644]\n",
      "  ..., \n",
      "  [ 0.90496012  0.90636853  0.92601736]\n",
      "  [ 0.97815951  1.06479106  1.22263426]\n",
      "  [ 0.80551848  0.79139856  0.80842931]]\n",
      "\n",
      " ..., \n",
      " [[ 0.4853538   0.50684653  1.0713625 ]\n",
      "  [ 0.77477521  0.68118606  0.99997451]\n",
      "  [ 0.9052561   0.84394391  1.10439723]\n",
      "  ..., \n",
      "  [ 0.93377377  0.78580339  1.12287977]\n",
      "  [ 1.211354    1.07008676  1.41369782]\n",
      "  [ 0.96633148  0.89098487  1.38284516]]\n",
      "\n",
      " [[ 0.43463491  0.55790192  1.19234843]\n",
      "  [ 0.55737482  0.67520906  1.18331217]\n",
      "  [ 0.60094442  0.70237519  1.15474974]\n",
      "  ..., \n",
      "  [ 0.89534697  0.80895821  1.20966846]\n",
      "  [ 1.03415828  0.97923093  1.48684235]\n",
      "  [ 0.9096815   0.85494537  1.39675604]]\n",
      "\n",
      " [[ 0.48601337  0.65522546  1.32426054]\n",
      "  [ 0.47950037  0.64565867  1.31798918]\n",
      "  [ 0.60494757  0.81251168  1.27570021]\n",
      "  ..., \n",
      "  [ 0.81530996  0.77103018  1.20928926]\n",
      "  [ 1.20089473  1.25851     1.52868245]\n",
      "  [ 0.96079007  0.93240339  1.41914417]]]\n",
      "[9]\n",
      "[40]\n",
      "[25]\n",
      "[31]\n",
      "[23]\n"
     ]
    }
   ],
   "source": [
    "### Run the predictions here and use the model to output the prediction for each image.\n",
    "### Make sure to pre-process the images with the same pre-processing pipeline used earlier.\n",
    "### Feel free to use as many code cells as needed.\n",
    "X_new = (X_new - X_train_mean) / X_train_stddev\n",
    "print(\"Mean:\")\n",
    "print(np.mean(X_new, axis = 0))\n",
    "print(\"Stddev:\")\n",
    "print(np.std(X_new, axis = 0))\n",
    "\n",
    "with tf.Session() as sess:\n",
    "    saver.restore(sess, \"./lenet\")\n",
    "    for offset in range(0, len(X_new)):\n",
    "        batch_x, batch_y = X_new[offset:offset+1], y_new[offset:offset+1]\n",
    "        new_prediction = sess.run(prediction, feed_dict = {x: batch_x, y: batch_y, keep_prob: 1.0})\n",
    "        print(new_prediction)\n"
   ]
  },
  {
   "cell_type": "markdown",
   "metadata": {},
   "source": [
    "### Analyze Performance"
   ]
  },
  {
   "cell_type": "code",
   "execution_count": 13,
   "metadata": {},
   "outputs": [
    {
     "name": "stdout",
     "output_type": "stream",
     "text": [
      "New test Accuracy = 0.800\n"
     ]
    }
   ],
   "source": [
    "### Calculate the accuracy for these 5 new images. \n",
    "### For example, if the model predicted 1 out of 5 signs correctly, it's 20% accurate on these new images.\n",
    "with tf.Session() as sess:\n",
    "    saver.restore(sess, tf.train.latest_checkpoint('.'))\n",
    "\n",
    "    new_test_accuracy = evaluate(X_new, y_new)\n",
    "    print(\"New test Accuracy = {:.3f}\".format(new_test_accuracy))"
   ]
  },
  {
   "cell_type": "markdown",
   "metadata": {},
   "source": [
    "### Output Top 5 Softmax Probabilities For Each Image Found on the Web"
   ]
  },
  {
   "cell_type": "markdown",
   "metadata": {},
   "source": [
    "For each of the new images, print out the model's softmax probabilities to show the **certainty** of the model's predictions (limit the output to the top 5 probabilities for each image). [`tf.nn.top_k`](https://www.tensorflow.org/versions/r0.12/api_docs/python/nn.html#top_k) could prove helpful here. \n",
    "\n",
    "The example below demonstrates how tf.nn.top_k can be used to find the top k predictions for each image.\n",
    "\n",
    "`tf.nn.top_k` will return the values and indices (class ids) of the top k predictions. So if k=3, for each sign, it'll return the 3 largest probabilities (out of a possible 43) and the correspoding class ids.\n",
    "\n",
    "Take this numpy array as an example. The values in the array represent predictions. The array contains softmax probabilities for five candidate images with six possible classes. `tf.nn.top_k` is used to choose the three classes with the highest probability:\n",
    "\n",
    "```\n",
    "# (5, 6) array\n",
    "a = np.array([[ 0.24879643,  0.07032244,  0.12641572,  0.34763842,  0.07893497,\n",
    "         0.12789202],\n",
    "       [ 0.28086119,  0.27569815,  0.08594638,  0.0178669 ,  0.18063401,\n",
    "         0.15899337],\n",
    "       [ 0.26076848,  0.23664738,  0.08020603,  0.07001922,  0.1134371 ,\n",
    "         0.23892179],\n",
    "       [ 0.11943333,  0.29198961,  0.02605103,  0.26234032,  0.1351348 ,\n",
    "         0.16505091],\n",
    "       [ 0.09561176,  0.34396535,  0.0643941 ,  0.16240774,  0.24206137,\n",
    "         0.09155967]])\n",
    "```\n",
    "\n",
    "Running it through `sess.run(tf.nn.top_k(tf.constant(a), k=3))` produces:\n",
    "\n",
    "```\n",
    "TopKV2(values=array([[ 0.34763842,  0.24879643,  0.12789202],\n",
    "       [ 0.28086119,  0.27569815,  0.18063401],\n",
    "       [ 0.26076848,  0.23892179,  0.23664738],\n",
    "       [ 0.29198961,  0.26234032,  0.16505091],\n",
    "       [ 0.34396535,  0.24206137,  0.16240774]]), indices=array([[3, 0, 5],\n",
    "       [0, 1, 4],\n",
    "       [0, 5, 1],\n",
    "       [1, 3, 5],\n",
    "       [1, 4, 3]], dtype=int32))\n",
    "```\n",
    "\n",
    "Looking just at the first row we get `[ 0.34763842,  0.24879643,  0.12789202]`, you can confirm these are the 3 largest probabilities in `a`. You'll also notice `[3, 0, 5]` are the corresponding indices."
   ]
  },
  {
   "cell_type": "code",
   "execution_count": 16,
   "metadata": {},
   "outputs": [
    {
     "name": "stdout",
     "output_type": "stream",
     "text": [
      "TopKV2(values=array([[ 29.48366928,  20.33241081,  14.42281914,  14.33376026,\n",
      "         13.34220886]], dtype=float32), indices=array([[ 9, 16, 19, 10, 41]], dtype=int32))\n",
      "TopKV2(values=array([[ 10.54912949,  10.04859734,   8.95455647,   8.69898987,\n",
      "          6.49624586]], dtype=float32), indices=array([[40, 34, 38, 36, 35]], dtype=int32))\n",
      "TopKV2(values=array([[ 12.30123711,  10.58432865,   9.94263554,   9.48879242,\n",
      "          9.26216698]], dtype=float32), indices=array([[25, 14,  3, 31, 29]], dtype=int32))\n",
      "TopKV2(values=array([[ 18.39476967,  18.37046432,  16.17663574,  10.47249603,\n",
      "          9.14037132]], dtype=float32), indices=array([[31, 29, 23, 30, 19]], dtype=int32))\n",
      "TopKV2(values=array([[ 23.5663166 ,  13.12849045,  12.81195831,  12.12170601,\n",
      "         11.85768414]], dtype=float32), indices=array([[23, 29, 31, 30, 24]], dtype=int32))\n"
     ]
    }
   ],
   "source": [
    "### Print out the top five softmax probabilities for the predictions on the German traffic sign images found on the web. \n",
    "### Feel free to use as many code cells as needed.\n",
    "with tf.Session() as sess:\n",
    "    saver.restore(sess, \"./lenet\")\n",
    "\n",
    "    for offset in range(0, len(X_new)):\n",
    "        batch_x, batch_y = X_new[offset:offset+1], y_new[offset:offset+1]\n",
    "        new_top5_prediction = sess.run(tf.nn.top_k(logits, k = 5), feed_dict={x: batch_x, y: batch_y, keep_prob: 1.0})\n",
    "        print(new_top5_prediction)\n"
   ]
  },
  {
   "cell_type": "markdown",
   "metadata": {},
   "source": [
    "### Project Writeup\n",
    "\n",
    "Once you have completed the code implementation, document your results in a project writeup using this [template](https://github.com/udacity/CarND-Traffic-Sign-Classifier-Project/blob/master/writeup_template.md) as a guide. The writeup can be in a markdown or pdf file. "
   ]
  },
  {
   "cell_type": "markdown",
   "metadata": {},
   "source": [
    "> **Note**: Once you have completed all of the code implementations and successfully answered each question above, you may finalize your work by exporting the iPython Notebook as an HTML document. You can do this by using the menu above and navigating to  \\n\",\n",
    "    \"**File -> Download as -> HTML (.html)**. Include the finished document along with this notebook as your submission."
   ]
  },
  {
   "cell_type": "markdown",
   "metadata": {},
   "source": [
    "---\n",
    "\n",
    "## Step 4 (Optional): Visualize the Neural Network's State with Test Images\n",
    "\n",
    " This Section is not required to complete but acts as an additional excersise for understaning the output of a neural network's weights. While neural networks can be a great learning device they are often referred to as a black box. We can understand what the weights of a neural network look like better by plotting their feature maps. After successfully training your neural network you can see what it's feature maps look like by plotting the output of the network's weight layers in response to a test stimuli image. From these plotted feature maps, it's possible to see what characteristics of an image the network finds interesting. For a sign, maybe the inner network feature maps react with high activation to the sign's boundary outline or to the contrast in the sign's painted symbol.\n",
    "\n",
    " Provided for you below is the function code that allows you to get the visualization output of any tensorflow weight layer you want. The inputs to the function should be a stimuli image, one used during training or a new one you provided, and then the tensorflow variable name that represents the layer's state during the training process, for instance if you wanted to see what the [LeNet lab's](https://classroom.udacity.com/nanodegrees/nd013/parts/fbf77062-5703-404e-b60c-95b78b2f3f9e/modules/6df7ae49-c61c-4bb2-a23e-6527e69209ec/lessons/601ae704-1035-4287-8b11-e2c2716217ad/concepts/d4aca031-508f-4e0b-b493-e7b706120f81) feature maps looked like for it's second convolutional layer you could enter conv2 as the tf_activation variable.\n",
    "\n",
    "For an example of what feature map outputs look like, check out NVIDIA's results in their paper [End-to-End Deep Learning for Self-Driving Cars](https://devblogs.nvidia.com/parallelforall/deep-learning-self-driving-cars/) in the section Visualization of internal CNN State. NVIDIA was able to show that their network's inner weights had high activations to road boundary lines by comparing feature maps from an image with a clear path to one without. Try experimenting with a similar test to show that your trained network's weights are looking for interesting features, whether it's looking at differences in feature maps from images with or without a sign, or even what feature maps look like in a trained network vs a completely untrained one on the same sign image.\n",
    "\n",
    "<figure>\n",
    " <img src=\"visualize_cnn.png\" width=\"380\" alt=\"Combined Image\" />\n",
    " <figcaption>\n",
    " <p></p> \n",
    " <p style=\"text-align: center;\"> Your output should look something like this (above)</p> \n",
    " </figcaption>\n",
    "</figure>\n",
    " <p></p> \n"
   ]
  },
  {
   "cell_type": "code",
   "execution_count": 15,
   "metadata": {
    "collapsed": true
   },
   "outputs": [],
   "source": [
    "### Visualize your network's feature maps here.\n",
    "### Feel free to use as many code cells as needed.\n",
    "\n",
    "# image_input: the test image being fed into the network to produce the feature maps\n",
    "# tf_activation: should be a tf variable name used during your training procedure that represents the calculated state of a specific weight layer\n",
    "# activation_min/max: can be used to view the activation contrast in more detail, by default matplot sets min and max to the actual min and max values of the output\n",
    "# plt_num: used to plot out multiple different weight feature map sets on the same block, just extend the plt number for each new feature map entry\n",
    "\n",
    "def outputFeatureMap(image_input, tf_activation, activation_min=-1, activation_max=-1 ,plt_num=1):\n",
    "    # Here make sure to preprocess your image_input in a way your network expects\n",
    "    # with size, normalization, ect if needed\n",
    "    # image_input =\n",
    "    # Note: x should be the same name as your network's tensorflow data placeholder variable\n",
    "    # If you get an error tf_activation is not defined it may be having trouble accessing the variable from inside a function\n",
    "    activation = tf_activation.eval(session=sess,feed_dict={x : image_input})\n",
    "    featuremaps = activation.shape[3]\n",
    "    plt.figure(plt_num, figsize=(15,15))\n",
    "    for featuremap in range(featuremaps):\n",
    "        plt.subplot(6,8, featuremap+1) # sets the number of feature maps to show on each row and column\n",
    "        plt.title('FeatureMap ' + str(featuremap)) # displays the feature map number\n",
    "        if activation_min != -1 & activation_max != -1:\n",
    "            plt.imshow(activation[0,:,:, featuremap], interpolation=\"nearest\", vmin =activation_min, vmax=activation_max, cmap=\"gray\")\n",
    "        elif activation_max != -1:\n",
    "            plt.imshow(activation[0,:,:, featuremap], interpolation=\"nearest\", vmax=activation_max, cmap=\"gray\")\n",
    "        elif activation_min !=-1:\n",
    "            plt.imshow(activation[0,:,:, featuremap], interpolation=\"nearest\", vmin=activation_min, cmap=\"gray\")\n",
    "        else:\n",
    "            plt.imshow(activation[0,:,:, featuremap], interpolation=\"nearest\", cmap=\"gray\")"
   ]
  }
 ],
 "metadata": {
  "anaconda-cloud": {},
  "kernelspec": {
   "display_name": "Python 3",
   "language": "python",
   "name": "python3"
  },
  "language_info": {
   "codemirror_mode": {
    "name": "ipython",
    "version": 3
   },
   "file_extension": ".py",
   "mimetype": "text/x-python",
   "name": "python",
   "nbconvert_exporter": "python",
   "pygments_lexer": "ipython3",
   "version": "3.5.2"
  },
  "widgets": {
   "state": {},
   "version": "1.1.2"
  }
 },
 "nbformat": 4,
 "nbformat_minor": 1
}
